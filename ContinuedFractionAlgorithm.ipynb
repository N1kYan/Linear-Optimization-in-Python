{
 "cells": [
  {
   "cell_type": "code",
   "execution_count": 1,
   "metadata": {},
   "outputs": [],
   "source": [
    "import numpy as np"
   ]
  },
  {
   "cell_type": "markdown",
   "metadata": {},
   "source": [
    "**Algorithm:** This method calculates a 'continued fraction' for a given rational number $r \\in Q$."
   ]
  },
  {
   "cell_type": "code",
   "execution_count": 2,
   "metadata": {},
   "outputs": [],
   "source": [
    "def chainbreak(r, ε):\n",
    "    i = 0\n",
    "    r = [r]\n",
    "    a = [np.floor(r)]\n",
    "    p = [0, 1]\n",
    "    q = [1, 0]\n",
    "    while True:\n",
    "        p.append(a[i]*p[i+1] + p[i])\n",
    "        q.append(a[i]*q[i+1] + q[i])\n",
    "        if q[i+2] > 1.0/ε:\n",
    "            return (p[i+1], q[i+1])\n",
    "        elif r[i] == a[i]:\n",
    "            return (p[i+2], q[i+2])\n",
    "        else:\n",
    "            r.append(1.0/(r[i]-a[i]))\n",
    "            a.append(np.floor(r[i+1]))\n",
    "            i += 1\n",
    "    return (p,q)"
   ]
  },
  {
   "cell_type": "markdown",
   "metadata": {},
   "source": [
    "**Example:** $r = \\sqrt3$ and $\\epsilon = 0.01$"
   ]
  },
  {
   "cell_type": "code",
   "execution_count": 3,
   "metadata": {},
   "outputs": [
    {
     "name": "stdout",
     "output_type": "stream",
     "text": [
      "p: [97.] q: [56.]\n",
      "|sqrt(3) - p/q| = [9.2049574e-05] < [0.00017857] = 0.01/q where 1<= q=[56.] <=100\n"
     ]
    }
   ],
   "source": [
    "rd, εd = np.sqrt(3), 0.01\n",
    "(pd,qd) = chainbreak(rd, εd)\n",
    "print(\"p: {} q: {}\".format(pd, qd))\n",
    "print(\"|sqrt(3) - p/q| = {} < {} = 0.01/q where 1<= q={} <=100\".format(np.abs(rd-pd/qd), εd/qd, qd))"
   ]
  }
 ],
 "metadata": {
  "kernelspec": {
   "display_name": "Python 3",
   "language": "python",
   "name": "python3"
  },
  "language_info": {
   "codemirror_mode": {
    "name": "ipython",
    "version": 3
   },
   "file_extension": ".py",
   "mimetype": "text/x-python",
   "name": "python",
   "nbconvert_exporter": "python",
   "pygments_lexer": "ipython3",
   "version": "3.7.3"
  }
 },
 "nbformat": 4,
 "nbformat_minor": 2
}
