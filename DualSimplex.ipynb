{
 "cells": [
  {
   "cell_type": "code",
   "execution_count": null,
   "metadata": {},
   "outputs": [],
   "source": [
    "import numpy as np"
   ]
  },
  {
   "cell_type": "code",
   "execution_count": null,
   "metadata": {},
   "outputs": [],
   "source": [
    "c = np.matrix('2.0; 1.0; 0.0; 0.0')\n",
    "b = np.matrix('-0.5; -1.0')\n",
    "A = np.matrix('-1.0 -1.0 1.0 0.0; -4.0 -1.0 0.0 1.0')"
   ]
  },
  {
   "cell_type": "code",
   "execution_count": null,
   "metadata": {},
   "outputs": [],
   "source": [
    "\"\"\"\n",
    "    LP data in standard form\n",
    "    \n",
    "    min  c*x\n",
    "    s.t. Ax = b\n",
    "         x >= 0\n",
    "\"\"\" \n",
    "c = np.matrix('20.0; 15.0; 12.0; 0.0; 0.0')\n",
    "b = np.matrix('-1.0; -1.0')\n",
    "A = np.matrix('-10.0 -5.0 -4.0 1.0 0.0; -5.0 -2.0 -10.0 0.0 1.0')"
   ]
  },
  {
   "cell_type": "code",
   "execution_count": null,
   "metadata": {},
   "outputs": [],
   "source": [
    "# Initial input for the algo\n",
    "B = np.arange(c.shape[0]-b.shape[0], c.shape[0])\n",
    "N = np.arange(0, c.shape[0]-b.shape[0])\n",
    "print(\"B: \", B)\n",
    "print(\"N: \", N)\n",
    "z = np.zeros(shape=(c.shape[0], 1))\n",
    "x = np.zeros(shape=(c.shape[0], 1))\n",
    "α = np.zeros(shape=(c.shape[0], 1))\n",
    "z[N] = c[N] - A[:,N].T*np.linalg.inv(A[:,B].T)*c[B]\n",
    "print(\"z: \", z.T)\n",
    "print(\"z[N] > 0: {}, so B is dual feasible.\".format(all(z[N]>0)))\n",
    "y = np.linalg.inv(A[:,B].T)*c[B]"
   ]
  },
  {
   "cell_type": "code",
   "execution_count": null,
   "metadata": {},
   "outputs": [],
   "source": [
    "iteration_counter = 1\n",
    "\n",
    "# Main Loop\n",
    "while True:\n",
    "    # (1) BTRAN:\n",
    "    x[B] = np.linalg.inv(A[:,B])*b\n",
    "    # Appearently x[N] is set to 0 every step ...\n",
    "    x[N] = 0\n",
    "    print(\"\\nIteration: {} Objective value: {} Optimum: {}\".format(iteration_counter, float(c.T*x), x.T))\n",
    "    print(\"x: \", x.T)\n",
    "    # (2) PRICING:\n",
    "    if all(x[B]>=0):\n",
    "        print(\"\\nFound optimal base with B={} and xB={}.\".format(B, x[B].T))\n",
    "        break\n",
    "    else:\n",
    "        # Choose minimal index for leaving variable\n",
    "        #i = np.argmin(x[B])\n",
    "        # Choose first index with x[B][i] < 0 for leaving variable\n",
    "        i = np.where(x[B]<0)[0][0]\n",
    "        print(\"i: \", i)\n",
    "        \n",
    "    # (3) FTRAN:\n",
    "    e = np.zeros(shape=(len(B),1))\n",
    "    e[i] = 1\n",
    "    w = np.linalg.inv(A[:,B].T)*e\n",
    "    print(\"w: \", w.T)\n",
    "    α[N] = -1*A[:,N].T*w\n",
    "    print(\"α[N]: \", α[N].T)\n",
    "    \n",
    "    # (4) RATIO-TEST:\n",
    "    if all(α[N]<=0):\n",
    "        print(\"\\nLP is unconstrained.\")\n",
    "        break\n",
    "    else:\n",
    "        # Get j from N with minimal z[j]/α[j] where α[j]>0 to determine entering variable\n",
    "        j = N[0]\n",
    "        for k in N[1:]:\n",
    "            if α[j]<=0:\n",
    "                j = k\n",
    "                continue\n",
    "            elif α[k] <= 0:\n",
    "                continue\n",
    "            else:\n",
    "                if z[k]/α[k] < z[j]/α[j]:\n",
    "                    j = k\n",
    "        print(\"j: \", j)\n",
    "    γ = float(z[j]/α[j])\n",
    "    print(\"γ: \", γ)\n",
    "    \n",
    "    # (5) UPDATE:\n",
    "    z[N] = z[N] - γ*α[N]\n",
    "    y = y - γ*w\n",
    "    z[B[i]] = γ\n",
    "    N[np.where(N==j)]=B[i]\n",
    "    B[i] = j\n",
    "    \n",
    "    iteration_counter += 1\n",
    "        "
   ]
  },
  {
   "cell_type": "code",
   "execution_count": null,
   "metadata": {},
   "outputs": [],
   "source": []
  }
 ],
 "metadata": {
  "@webio": {
   "lastCommId": null,
   "lastKernelId": null
  },
  "kernelspec": {
   "display_name": "Python 3",
   "language": "python",
   "name": "python3"
  },
  "language_info": {
   "codemirror_mode": {
    "name": "ipython",
    "version": 3
   },
   "file_extension": ".py",
   "mimetype": "text/x-python",
   "name": "python",
   "nbconvert_exporter": "python",
   "pygments_lexer": "ipython3",
   "version": "3.7.3"
  }
 },
 "nbformat": 4,
 "nbformat_minor": 2
}
